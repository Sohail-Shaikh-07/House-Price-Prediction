{
 "cells": [
  {
   "cell_type": "code",
   "execution_count": null,
   "id": "a71ce44f-ef98-413b-bbf6-494028d11f13",
   "metadata": {},
   "outputs": [],
   "source": []
  }
 ],
 "metadata": {
  "kernelspec": {
   "display_name": "",
   "name": ""
  },
  "language_info": {
   "name": ""
  }
 },
 "nbformat": 4,
 "nbformat_minor": 5
}
